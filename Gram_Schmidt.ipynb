{
  "nbformat": 4,
  "nbformat_minor": 0,
  "metadata": {
    "colab": {
      "provenance": [],
      "authorship_tag": "ABX9TyOiVa1jGZMM66IJta7Foog8",
      "include_colab_link": true
    },
    "kernelspec": {
      "name": "python3",
      "display_name": "Python 3"
    },
    "language_info": {
      "name": "python"
    }
  },
  "cells": [
    {
      "cell_type": "markdown",
      "metadata": {
        "id": "view-in-github",
        "colab_type": "text"
      },
      "source": [
        "<a href=\"https://colab.research.google.com/github/skylarvotaw/Math311_Linear_Algebra_Projects/blob/main/Gram_Schmidt.ipynb\" target=\"_parent\"><img src=\"https://colab.research.google.com/assets/colab-badge.svg\" alt=\"Open In Colab\"/></a>"
      ]
    },
    {
      "cell_type": "code",
      "execution_count": 2,
      "metadata": {
        "id": "nX4AJH5XigxD"
      },
      "outputs": [],
      "source": [
        "import matplotlib.pyplot as plt\n",
        "import numpy as np"
      ]
    },
    {
      "cell_type": "markdown",
      "source": [
        "# Let's figure out some sector operations!"
      ],
      "metadata": {
        "id": "8keNoDmUkxjw"
      }
    },
    {
      "cell_type": "code",
      "source": [
        "# create a vector\n",
        "v = np.array([[1],[2],[3],[4]])\n",
        "v"
      ],
      "metadata": {
        "colab": {
          "base_uri": "https://localhost:8080/"
        },
        "id": "LUBukGYjjDCm",
        "outputId": "e5220212-2df5-4015-d75d-6075990aa628"
      },
      "execution_count": 10,
      "outputs": [
        {
          "output_type": "execute_result",
          "data": {
            "text/plain": [
              "array([[1],\n",
              "       [2],\n",
              "       [3],\n",
              "       [4]])"
            ]
          },
          "metadata": {},
          "execution_count": 10
        }
      ]
    },
    {
      "cell_type": "code",
      "source": [
        "# Add vectors to vectors:\n",
        "\n",
        "v + v"
      ],
      "metadata": {
        "colab": {
          "base_uri": "https://localhost:8080/"
        },
        "id": "erA-JuA3lj9_",
        "outputId": "a92feb80-7988-4a60-964b-aed355eb27dc"
      },
      "execution_count": 11,
      "outputs": [
        {
          "output_type": "execute_result",
          "data": {
            "text/plain": [
              "array([[2],\n",
              "       [4],\n",
              "       [6],\n",
              "       [8]])"
            ]
          },
          "metadata": {},
          "execution_count": 11
        }
      ]
    },
    {
      "cell_type": "code",
      "source": [
        "# Scale a vector:\n",
        "\n",
        "5*v"
      ],
      "metadata": {
        "colab": {
          "base_uri": "https://localhost:8080/"
        },
        "id": "jF0tAX-ClpfV",
        "outputId": "4b6fa602-3a81-4baf-883d-7bc623712ada"
      },
      "execution_count": 12,
      "outputs": [
        {
          "output_type": "execute_result",
          "data": {
            "text/plain": [
              "array([[ 5],\n",
              "       [10],\n",
              "       [15],\n",
              "       [20]])"
            ]
          },
          "metadata": {},
          "execution_count": 12
        }
      ]
    },
    {
      "cell_type": "markdown",
      "source": [
        "# Gram-Schmidt Process for four vectors"
      ],
      "metadata": {
        "id": "w0Hhaqf5pGL9"
      }
    },
    {
      "cell_type": "code",
      "source": [
        "# Create 4 random vectors\n",
        "\n",
        "r1 = np.array([0, 3, -3, 0])\n",
        "r2 = np.array([2, 6, -2, 2])\n",
        "r3 = np.array([-2, 1, -3, 0])\n",
        "r4 = np.array([2, -4, -2, -4])"
      ],
      "metadata": {
        "id": "GQzNJ-DlpHrQ"
      },
      "execution_count": 22,
      "outputs": []
    },
    {
      "cell_type": "code",
      "source": [
        "print(\"the first random vector is \", r1)"
      ],
      "metadata": {
        "colab": {
          "base_uri": "https://localhost:8080/"
        },
        "id": "CzfYnTlCpgce",
        "outputId": "7b6bceb1-5737-46dc-8358-121e615e89ff"
      },
      "execution_count": 23,
      "outputs": [
        {
          "output_type": "stream",
          "name": "stdout",
          "text": [
            "the first random vector is  [ 0  3 -3  0]\n"
          ]
        }
      ]
    },
    {
      "cell_type": "markdown",
      "source": [
        "# Let's process the first vector"
      ],
      "metadata": {
        "id": "CC5U-0nSp3jz"
      }
    },
    {
      "cell_type": "code",
      "source": [
        "# Chose r1\n",
        "t1 = r1\n",
        "print(t1)"
      ],
      "metadata": {
        "colab": {
          "base_uri": "https://localhost:8080/"
        },
        "id": "qu8-1HJdp7KL",
        "outputId": "d646a91f-f745-418b-a7ca-9d46153e8824"
      },
      "execution_count": 25,
      "outputs": [
        {
          "output_type": "stream",
          "name": "stdout",
          "text": [
            "[ 0  3 -3  0]\n"
          ]
        }
      ]
    },
    {
      "cell_type": "code",
      "source": [
        "# Normalize t1, and save it as our nice vector u1:\n",
        "n1 = np.sqrt(t1.dot(t1))\n",
        "print(n1)"
      ],
      "metadata": {
        "colab": {
          "base_uri": "https://localhost:8080/"
        },
        "id": "HUTrcVR_qG3u",
        "outputId": "7eae7c78-ccd3-436b-93c6-ac8acc266b01"
      },
      "execution_count": 28,
      "outputs": [
        {
          "output_type": "stream",
          "name": "stdout",
          "text": [
            "4.242640687119285\n"
          ]
        }
      ]
    },
    {
      "cell_type": "code",
      "source": [
        "# Form u1\n",
        "u1 = (1/n1) * t1\n",
        "u1\n",
        "print(\"our first nice vector is u1: \", u1)"
      ],
      "metadata": {
        "colab": {
          "base_uri": "https://localhost:8080/"
        },
        "id": "x1JXU867qVKV",
        "outputId": "d75e905f-6c9a-46e0-90c1-aef3bc399c44"
      },
      "execution_count": 32,
      "outputs": [
        {
          "output_type": "stream",
          "name": "stdout",
          "text": [
            "our first nice vector is u1:  [ 0.          0.70710678 -0.70710678  0.        ]\n"
          ]
        }
      ]
    },
    {
      "cell_type": "code",
      "source": [
        "# Check\n",
        "\n",
        "u1.dot(u1)"
      ],
      "metadata": {
        "colab": {
          "base_uri": "https://localhost:8080/"
        },
        "id": "8ywrArdHqZ5y",
        "outputId": "ba86c3f9-71e2-4263-9c93-2cf94a8aabce"
      },
      "execution_count": 36,
      "outputs": [
        {
          "output_type": "execute_result",
          "data": {
            "text/plain": [
              "np.float64(1.0000000000000002)"
            ]
          },
          "metadata": {},
          "execution_count": 36
        }
      ]
    },
    {
      "cell_type": "code",
      "source": [
        "#  Choose r2\n",
        "#  Subtract off the nice basis vectors:\n",
        "t2 = r2 - r2.dot(u1)   * u1\n",
        "print(t2)\n",
        "\n",
        "#  Normalize t2\n",
        "n2 = np.sqrt(t2.dot(t2))\n",
        "print(n2)\n",
        "\n",
        "# Form u2\n",
        "u2 = (1/n2) * t2\n",
        "print(u2)"
      ],
      "metadata": {
        "colab": {
          "base_uri": "https://localhost:8080/"
        },
        "id": "yGDSwgeeqkBB",
        "outputId": "c6e394a5-6379-41a1-eb14-2109cb2a5832"
      },
      "execution_count": 41,
      "outputs": [
        {
          "output_type": "stream",
          "name": "stdout",
          "text": [
            "[2. 2. 2. 2.]\n",
            "4.0\n",
            "[0.5 0.5 0.5 0.5]\n"
          ]
        }
      ]
    },
    {
      "cell_type": "code",
      "source": [
        "#Check\n",
        "print(\"size of u2 = \", u2.dot(u2))\n",
        "print(\"u1.u2 = \", u1.dot(u2))"
      ],
      "metadata": {
        "colab": {
          "base_uri": "https://localhost:8080/"
        },
        "id": "gCu0QYO6qwyA",
        "outputId": "6bf40b2a-909c-46a2-ece0-a9a18ebbb5e0"
      },
      "execution_count": 57,
      "outputs": [
        {
          "output_type": "stream",
          "name": "stdout",
          "text": [
            "size of u2 =  1.0\n",
            "u1.u2 =  -3.3306690738754696e-16\n"
          ]
        }
      ]
    },
    {
      "cell_type": "code",
      "source": [
        "#  Choose r3\n",
        "#   Subtract off the nice basis vectors:\n",
        "t3 = r3 - r3.dot(u1)   * u1   -  r3.dot(u2)  * u2\n",
        "print(t3)\n",
        "\n",
        "##  Normalize t3:\n",
        "n3 = np.sqrt(t3.dot(t3))\n",
        "print(n3)\n",
        "\n",
        "##  Form u3\n",
        "u3 = (1/n3) * t3\n",
        "print(u3)"
      ],
      "metadata": {
        "colab": {
          "base_uri": "https://localhost:8080/"
        },
        "id": "CtmsVgbsrWh4",
        "outputId": "ac2dc8bf-c690-4d16-83ea-75995da444aa"
      },
      "execution_count": 48,
      "outputs": [
        {
          "output_type": "stream",
          "name": "stdout",
          "text": [
            "[-1.00000000e+00 -4.44089210e-16  1.33226763e-15  1.00000000e+00]\n",
            "1.4142135623730951\n",
            "[-7.07106781e-01 -3.14018492e-16  9.42055475e-16  7.07106781e-01]\n"
          ]
        }
      ]
    },
    {
      "cell_type": "code",
      "source": [
        "#Check\n",
        "print(\"size of u3 = \", u3.dot(u3))\n",
        "print(\"u3.u1 = \", u3.dot(u1))\n",
        "print(\"u3.u2 = \", u3.dot(u2))"
      ],
      "metadata": {
        "colab": {
          "base_uri": "https://localhost:8080/"
        },
        "id": "P2rjWPdyrynQ",
        "outputId": "9e3e05f3-69fd-47bf-a050-dc1009de0199"
      },
      "execution_count": 56,
      "outputs": [
        {
          "output_type": "stream",
          "name": "stdout",
          "text": [
            "size of u3 =  0.9999999999999998\n",
            "u3.u1 =  -8.881784197001252e-16\n",
            "u3.u2 =  6.106226635438361e-16\n"
          ]
        }
      ]
    },
    {
      "cell_type": "code",
      "source": [
        "#  Choose r4\n",
        "#   Subtract off the nice basis vectors:\n",
        "t4 = r4 - r4.dot(u1)   * u1   -  r4.dot(u2)  * u2 - r4.dot(u3) * u3\n",
        "print(t4)\n",
        "\n",
        "##  Normalize t4:\n",
        "n4 = np.sqrt(t4.dot(t4))\n",
        "print(n4)\n",
        "\n",
        "##  Form u4\n",
        "u4 = (1/n4) * t4\n",
        "print(u4)"
      ],
      "metadata": {
        "colab": {
          "base_uri": "https://localhost:8080/"
        },
        "id": "vASkLJjssG1i",
        "outputId": "f110a3b3-8798-4451-fa80-33ecd398c05d"
      },
      "execution_count": 53,
      "outputs": [
        {
          "output_type": "stream",
          "name": "stdout",
          "text": [
            "[ 1. -1. -1.  1.]\n",
            "2.0000000000000004\n",
            "[ 0.5 -0.5 -0.5  0.5]\n"
          ]
        }
      ]
    },
    {
      "cell_type": "code",
      "source": [
        "#Check\n",
        "print(\"size of u4 = \", u4.dot(u4))\n",
        "print(\"u4.u1 = \", u4.dot(u1))\n",
        "print(\"u4.u2 = \", u4.dot(u2))\n",
        "print(\"u4.u3 = \", u4.dot(u3))"
      ],
      "metadata": {
        "colab": {
          "base_uri": "https://localhost:8080/"
        },
        "id": "N4YhrSE4smkA",
        "outputId": "7eca7fdd-2dd8-4d6e-d6c4-a98e40eea019"
      },
      "execution_count": 58,
      "outputs": [
        {
          "output_type": "stream",
          "name": "stdout",
          "text": [
            "size of u4 =  0.9999999999999999\n",
            "u4.u1 =  -2.4424906541753444e-15\n",
            "u4.u2 =  1.1657341758564144e-15\n",
            "u4.u3 =  5.551115123125783e-17\n"
          ]
        }
      ]
    },
    {
      "cell_type": "code",
      "source": [],
      "metadata": {
        "id": "6baFg83WtBr5"
      },
      "execution_count": null,
      "outputs": []
    }
  ]
}
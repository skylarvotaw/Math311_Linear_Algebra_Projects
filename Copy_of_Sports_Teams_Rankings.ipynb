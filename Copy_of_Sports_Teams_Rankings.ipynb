{
  "nbformat": 4,
  "nbformat_minor": 0,
  "metadata": {
    "colab": {
      "provenance": [],
      "include_colab_link": true
    },
    "kernelspec": {
      "name": "python3",
      "display_name": "Python 3"
    }
  },
  "cells": [
    {
      "cell_type": "markdown",
      "metadata": {
        "id": "view-in-github",
        "colab_type": "text"
      },
      "source": [
        "<a href=\"https://colab.research.google.com/github/skylarvotaw/Math311_Linear_Algebra_Projects/blob/main/Copy_of_Sports_Teams_Rankings.ipynb\" target=\"_parent\"><img src=\"https://colab.research.google.com/assets/colab-badge.svg\" alt=\"Open In Colab\"/></a>"
      ]
    },
    {
      "cell_type": "markdown",
      "metadata": {
        "id": "TwGBRAD9R6W4"
      },
      "source": [
        "# Load the preliminary code"
      ]
    },
    {
      "cell_type": "code",
      "metadata": {
        "id": "NaP8xyCfRrUg"
      },
      "source": [
        "import matplotlib.pyplot as plt\n",
        "from sympy import Poly\n",
        "import sympy as sym\n",
        "import numpy as np\n",
        "from numpy import c_\n",
        "\n",
        "# We'll specify that x and t are variables:\n",
        "x, t = sym.symbols('x, t')\n",
        "\n",
        "ll = \"loaded\""
      ],
      "execution_count": 3,
      "outputs": []
    },
    {
      "cell_type": "code",
      "metadata": {
        "id": "CANB9fuMRyBP",
        "colab": {
          "base_uri": "https://localhost:8080/"
        },
        "outputId": "62356d4e-5b3f-4feb-bdaa-2d6490127e34"
      },
      "source": [
        "lll = \" correctly!\"\n",
        "\n",
        "def rref(matrix):\n",
        "    A = np.array(matrix, dtype=np.float64)\n",
        "\n",
        "    r = 0 #row\n",
        "    c = 0 #column\n",
        "\n",
        "    (maxr, maxc) = A.shape\n",
        "\n",
        "    prev_row_pivot = -1   # The previous row with a leading term:\n",
        "    tmp_pivot_row = -1\n",
        "    this_pivot_row = -1\n",
        "\n",
        "    for c in range(maxc):  # go through each column\n",
        "      tmp_pivot_row = -1  # reset the tmp pivot row\n",
        "      this_pivot_row = -1  # reset this pivot row\n",
        "      for r in range(maxr):  # Find the leading term in this column below prev_row_pivot\n",
        "        if ((r > prev_row_pivot) and (A[r][c] != 0.0)):\n",
        "          tmp_pivot_row = r  # find the new pivot row\n",
        "      if (tmp_pivot_row > -1):  # we found a candidate for the leading term:\n",
        "        #swap row this_pivot_row with (prev_row_pivot + 1)\n",
        "        A[[tmp_pivot_row, prev_row_pivot+1]] = A[[prev_row_pivot + 1, tmp_pivot_row]]\n",
        "        #set this_pivot_row to prev_row_pivot+1\n",
        "        this_pivot_row = prev_row_pivot + 1\n",
        "        #Now, normalize the row based on the pivot value:\n",
        "        A[ this_pivot_row ] = A[ this_pivot_row ] / A[ this_pivot_row ][c]\n",
        "        #Then, use this row to force 0's above and below the pivot entry:\n",
        "        #subtract multiples of of the this_pivot_row row from the others\n",
        "        for r_ in range(len(A)):\n",
        "            if r_ != this_pivot_row:\n",
        "                A[r_] = A[r_] - A[this_pivot_row] * A[r_][c] / A[this_pivot_row][c]\n",
        "        prev_row_pivot = this_pivot_row\n",
        "    return A\n",
        "\n",
        "\n",
        "def is_singular(matrix):\n",
        "  singular = True\n",
        "  notsingular = False\n",
        "\n",
        "  (mr, mc) = matrix.shape\n",
        "\n",
        "  return_value = notsingular\n",
        "  if (mc - np.linalg.linalg.matrix_rank(matrix) > 0) :\n",
        "    return_value = singular\n",
        "  return return_value\n",
        "\n",
        "\n",
        "\n",
        "\n",
        "print(\">> The page \", ll, lll)"
      ],
      "execution_count": 4,
      "outputs": [
        {
          "output_type": "stream",
          "name": "stdout",
          "text": [
            ">> The page  loaded  correctly!\n"
          ]
        }
      ]
    },
    {
      "cell_type": "markdown",
      "metadata": {
        "id": "dCB31bhvTulU"
      },
      "source": [
        "# Ranking Teams based on games\n",
        "\n",
        "From our packet, we saw there were five games:\n",
        "\n",
        "Home  | Away\n",
        "------|------\n",
        "Winona State 16 | Sioux Falls 15\n",
        "Winona State 34 | Augustana 20\n",
        "Sioux Falls 51  | Augustana 13\n",
        "Duluth 28       |  Augustana 17\n",
        "Winona State 17 | Duluth 37\n",
        "\n",
        "Let's encode this system into a matrix.\n",
        "\n",
        "The unknown rankings are $r_w, r_s, r_a, r_d$.\n",
        "\n",
        "The system looks like $M \\vec{x} = \\vec{b}$, or\n",
        "\n",
        "$$\n",
        "\\left( \\begin{array}{cccc} 1 & -1 & 0 & 0 \\\\ 1 & 0 & -1 & 0 \\\\ 0 & 1 & -1 & 0 \\\\ 0 & 0 & -1 & 1 \\\\ -1 & 0  & 0 & 1 \\\\ \\end{array} \\right) \\, \\left( \\begin{array}{c} r_w \\\\ r_s \\\\ r_a \\\\ r_d \\\\ \\end{array} \\right) = \\left( \\begin{array}{c} 1 \\\\ 14 \\\\ 38 \\\\ 11 \\\\ 20 \\\\ \\end{array} \\right)$$\n",
        "\n",
        "We'll solve this system using least squares\n",
        "$$M^T I M \\vec{x} = M^T I \\vec{b} $$\n",
        "\n",
        "$$ \\vec{x} = \\left( M^T I M  \\right)^{-1} M^T I \\vec{b} $$\n",
        "\n",
        "\n",
        "\n",
        "\n"
      ]
    },
    {
      "cell_type": "code",
      "metadata": {
        "id": "zZOH_e5mViMs",
        "colab": {
          "base_uri": "https://localhost:8080/",
          "height": 104
        },
        "outputId": "1721ccdb-121b-4ed4-c8bc-2347073ecf1f"
      },
      "source": [
        "# create the matrix:\n",
        "M = np.matrix([[1, -1, 0, 0],\n",
        "               [1, 0, -1, 0],\n",
        "               [0, 1, -1, 0],\n",
        "               [0, 0, -1, 1],\n",
        "               [-1, 0, 0, 1]])\n",
        "\n",
        "\n",
        "# create the vector for the right hand side:\n",
        "pts = np.matrix([[1], [14], [38], [11], [20]])\n",
        "\n",
        "#Make sure the system looks appropriate:\n",
        "print(np.c_[M,pts])"
      ],
      "execution_count": null,
      "outputs": [
        {
          "output_type": "stream",
          "text": [
            "[[ 1 -1  0  0  1]\n",
            " [ 1  0 -1  0 14]\n",
            " [ 0  1 -1  0 38]\n",
            " [ 0  0 -1  1 11]\n",
            " [-1  0  0  1 20]]\n"
          ],
          "name": "stdout"
        }
      ]
    },
    {
      "cell_type": "code",
      "metadata": {
        "id": "s_r-ljCGWB18",
        "colab": {
          "base_uri": "https://localhost:8080/",
          "height": 347
        },
        "outputId": "e9dc900e-b4f9-4496-e3a0-8ed07ef25c85"
      },
      "source": [
        "# Generate the transpose of M:\n",
        "MT = M.transpose()\n",
        "\n",
        "print(\"The Transpose of M is:\")\n",
        "print(MT)\n",
        "\n",
        "# and find MT*M and MT*pts:\n",
        "print(\"\\n\")\n",
        "print(\"MT * M is: \")\n",
        "MTM = MT * M\n",
        "print(MTM)\n",
        "\n",
        "print(\"\\n\")\n",
        "print(\"MT * pts is:\")\n",
        "MTpts = MT * pts\n",
        "print(MTpts)\n"
      ],
      "execution_count": null,
      "outputs": [
        {
          "output_type": "stream",
          "text": [
            "The Transpose of M is:\n",
            "[[ 1  1  0  0 -1]\n",
            " [-1  0  1  0  0]\n",
            " [ 0 -1 -1 -1  0]\n",
            " [ 0  0  0  1  1]]\n",
            "\n",
            "\n",
            "MT * M is: \n",
            "[[ 3 -1 -1 -1]\n",
            " [-1  2 -1  0]\n",
            " [-1 -1  3 -1]\n",
            " [-1  0 -1  2]]\n",
            "\n",
            "\n",
            "MT * pts is:\n",
            "[[ -5]\n",
            " [ 37]\n",
            " [-63]\n",
            " [ 31]]\n"
          ],
          "name": "stdout"
        }
      ]
    },
    {
      "cell_type": "markdown",
      "metadata": {
        "id": "x38H0uPwbhpF"
      },
      "source": [
        "If $M^T M$ has an inverse, then we can use it.  But, if $M^T M$ is singular, then it doesn't have an inverse.  In this situation, we need to replace every entry in one row (say the bottom row) of $M^T M$ and $M^T \\vec{pts}$ with 1's.  (This knocks the system out of *not* having an inverse, so it will now have an inverse.)"
      ]
    },
    {
      "cell_type": "code",
      "metadata": {
        "id": "1ebWW4rZaopa",
        "colab": {
          "base_uri": "https://localhost:8080/",
          "height": 35
        },
        "outputId": "96ea5202-d2aa-4575-dada-5186053f96ee"
      },
      "source": [
        "#  Check if MTM is singular\n",
        "is_singular(MT*M)"
      ],
      "execution_count": null,
      "outputs": [
        {
          "output_type": "execute_result",
          "data": {
            "text/plain": [
              "True"
            ]
          },
          "metadata": {
            "tags": []
          },
          "execution_count": 82
        }
      ]
    },
    {
      "cell_type": "code",
      "metadata": {
        "id": "Hs_ZR78AbziT",
        "colab": {
          "base_uri": "https://localhost:8080/",
          "height": 225
        },
        "outputId": "24b9486a-5e51-44e8-e150-8ec93fc6112f"
      },
      "source": [
        "# If MTM is singular, then adjust one row of MTM and MT pts to be just 1's:\n",
        "\n",
        "#MTM[3] is the entire 4th row of MTM,\n",
        "#so MTM[3] = 1 will put 1's in MTM's 4th row.\n",
        "\n",
        "MTM[3] = 1\n",
        "MTpts[3] = 1\n",
        "\n",
        "print(\"MTM is now: \")\n",
        "print(MTM)\n",
        "\n",
        "print(\"and MTpts is now:\")\n",
        "print(MTpts)\n",
        "\n",
        "print(\"Is our modified MTM singular?\")\n",
        "is_singular(MTM)"
      ],
      "execution_count": null,
      "outputs": [
        {
          "output_type": "stream",
          "text": [
            "MTM is now: \n",
            "[[ 3 -1 -1 -1]\n",
            " [-1  2 -1  0]\n",
            " [-1 -1  3 -1]\n",
            " [ 1  1  1  1]]\n",
            "and MTpts is now:\n",
            "[[ -5]\n",
            " [ 37]\n",
            " [-63]\n",
            " [  1]]\n",
            "Is our modified MTM singular?\n"
          ],
          "name": "stdout"
        },
        {
          "output_type": "execute_result",
          "data": {
            "text/plain": [
              "False"
            ]
          },
          "metadata": {
            "tags": []
          },
          "execution_count": 83
        }
      ]
    },
    {
      "cell_type": "code",
      "metadata": {
        "id": "48WK4ZH7WRxH",
        "colab": {
          "base_uri": "https://localhost:8080/",
          "height": 225
        },
        "outputId": "7170124c-d885-468c-f2d4-01d1eff4e299"
      },
      "source": [
        "#Find our solution using the inverse of MTM:\n",
        "\n",
        "#First, find the inverse of MTM:\n",
        "MTMI = np.linalg.inv(MTM)\n",
        "\n",
        "print(\"The inverse of MTM is:\")\n",
        "print(MTMI)\n",
        "\n",
        "#Now, use the inverse of MTM to solve for the rankings:\n",
        "\n",
        "print(\"\\n\")\n",
        "print(\"The solution are rankings:\")\n",
        "MTMI * MTpts"
      ],
      "execution_count": null,
      "outputs": [
        {
          "output_type": "stream",
          "text": [
            "The inverse of MTM is:\n",
            "[[ 2.50000000e-01  0.00000000e+00  1.85037171e-17  2.50000000e-01]\n",
            " [ 1.25000000e-01  5.00000000e-01  1.25000000e-01  2.50000000e-01]\n",
            " [ 0.00000000e+00  0.00000000e+00  2.50000000e-01  2.50000000e-01]\n",
            " [-3.75000000e-01 -5.00000000e-01 -3.75000000e-01  2.50000000e-01]]\n",
            "\n",
            "\n",
            "The solution are rankings:\n"
          ],
          "name": "stdout"
        },
        {
          "output_type": "execute_result",
          "data": {
            "text/plain": [
              "matrix([[ -1.  ],\n",
              "        [ 10.25],\n",
              "        [-15.5 ],\n",
              "        [  7.25]])"
            ]
          },
          "metadata": {
            "tags": []
          },
          "execution_count": 84
        }
      ]
    },
    {
      "cell_type": "markdown",
      "metadata": {
        "id": "YOTdLT4-R-1h"
      },
      "source": [
        "#  Game Data  - Fall Sports\n",
        "\n",
        "Find the game data for the four teams in the NFC North and NFC South.\n",
        "\n",
        "The teams are:\n",
        "\n",
        "* **NFC North:**  Green Bay Packers, Chicago Bears, Detroit Lions, Minnesota Vikings\n",
        "* **NFC South:**  Atlanta Falcons, Carolina Panthers, New Orleans Saints, Tampa Bay Buccaneers\n",
        "\n",
        "\n",
        "It may be helpful to do a google search to find the data.\n",
        "\n",
        "Be sure to create your matrix on the handout, then enter the data for the system below.\n",
        "\n",
        "# Game Data - Spring Sports\n",
        "\n",
        "Find the game data for the seven teams in the Western Division for Men's Big Ten Basketball.\n",
        "\n",
        "**The teams:**  Wisconsin, Minnesota, Iowa, Illinois, Nebraska, Purdue, and Northewstern.\n",
        "\n",
        "I've provided **most** of the data, but you have to do a Google search to find the scores for the last two teams.\n",
        "\n",
        "Be sure to create your matrix on the handout, then enter the data for the system below.\n"
      ]
    },
    {
      "cell_type": "code",
      "source": [
        "[1,-1,0,0,0,0,0,0],\n",
        "[-1,0,0,0,0,1,0,0],\n",
        "[-1,0,0,0,0,0,1,0],\n",
        "[1,0,0,0,0,0,0,-1],\n",
        "[-1,0,0,1,0,0,0,0],\n",
        "[-1,0,1,0,0,0,0,0],\n",
        "[-1,0,0,0,1,0,0,0],\n",
        "[0,0,0,0,1,-1,0,0],\n",
        "[0,0,1,0,-1,0,0,0],\n",
        "[0,0,0,1,-1,0,0,0],\n",
        "[0,-1,0,1,0,0,0,0],\n",
        "[0,-1,0,0,0,0,1,0],\n",
        "[0,-1,1,0,0,0,0,0],\n",
        "[0,-1,0,0,0,1,0,0],\n",
        "[0,0,1,0,0,0,0,-1],\n",
        "[0,0,1,0,0,-1,0,0],\n",
        "[0,0,-1,0,0,0,1,0],\n",
        "[0,0,0,-1,0,0,1,0],\n",
        "[0,0,0,1,0,-1,0,0],\n",
        "[0,0,0,0,1,0,-1,0],\n",
        "[0,0,0,0,0,0,1,-1]"
      ],
      "metadata": {
        "colab": {
          "base_uri": "https://localhost:8080/"
        },
        "id": "HhWEuDXvZTZP",
        "outputId": "a8ef0b6c-c9b2-4933-ad1d-0fc3a28a1e35"
      },
      "execution_count": 1,
      "outputs": [
        {
          "output_type": "execute_result",
          "data": {
            "text/plain": [
              "[0, 0, 0, 0, 0, 0, 1, -1]"
            ]
          },
          "metadata": {},
          "execution_count": 1
        }
      ]
    },
    {
      "cell_type": "code",
      "metadata": {
        "id": "RrMkbXIC5v_X",
        "colab": {
          "base_uri": "https://localhost:8080/"
        },
        "outputId": "f947e815-dd1a-478f-815f-7dc1b1f7c8b3"
      },
      "source": [
        "# create the matrix:\n",
        "M = np.matrix([[1,-1,0,0,0,0,0,0],\n",
        "               [-1,0,0,0,0,1,0,0],\n",
        "               [-1,0,0,0,0,0,1,0],\n",
        "               [1,0,0,0,0,0,0,-1],\n",
        "               [-1,0,0,1,0,0,0,0],\n",
        "               [-1,0,1,0,0,0,0,0],\n",
        "               [-1,0,0,0,1,0,0,0],\n",
        "               [0,0,0,0,1,-1,0,0],\n",
        "               [0,0,1,0,-1,0,0,0],\n",
        "               [0,0,0,1,-1,0,0,0],\n",
        "               [0,-1,0,1,0,0,0,0],\n",
        "               [0,-1,0,0,0,0,1,0],\n",
        "               [0,-1,1,0,0,0,0,0],\n",
        "               [0,-1,0,0,0,1,0,0],\n",
        "               [0,0,1,0,0,0,0,-1],\n",
        "               [0,0,1,0,0,-1,0,0],\n",
        "               [0,0,-1,0,0,0,1,0],\n",
        "               [0,0,0,-1,0,0,1,0],\n",
        "               [0,0,0,1,0,-1,0,0],\n",
        "               [0,0,0,0,1,0,-1,0],\n",
        "               [0,0,0,0,0,0,1,-1]])\n",
        "\n",
        "\n",
        "# create the vector for the right hand side:\n",
        "pts = np.matrix([[3], [3], [2], [3], [2], [3], [2], [1], [3], [3], [3], [3], [2], [3], [3], [1], [3], [3], [2], [3], [3] ])\n",
        "\n",
        "#Make sure the system looks appropriate:\n",
        "print(np.c_[M,pts])"
      ],
      "execution_count": 6,
      "outputs": [
        {
          "output_type": "stream",
          "name": "stdout",
          "text": [
            "[[ 1 -1  0  0  0  0  0  0  3]\n",
            " [-1  0  0  0  0  1  0  0  3]\n",
            " [-1  0  0  0  0  0  1  0  2]\n",
            " [ 1  0  0  0  0  0  0 -1  3]\n",
            " [-1  0  0  1  0  0  0  0  2]\n",
            " [-1  0  1  0  0  0  0  0  3]\n",
            " [-1  0  0  0  1  0  0  0  2]\n",
            " [ 0  0  0  0  1 -1  0  0  1]\n",
            " [ 0  0  1  0 -1  0  0  0  3]\n",
            " [ 0  0  0  1 -1  0  0  0  3]\n",
            " [ 0 -1  0  1  0  0  0  0  3]\n",
            " [ 0 -1  0  0  0  0  1  0  3]\n",
            " [ 0 -1  1  0  0  0  0  0  2]\n",
            " [ 0 -1  0  0  0  1  0  0  3]\n",
            " [ 0  0  1  0  0  0  0 -1  3]\n",
            " [ 0  0  1  0  0 -1  0  0  1]\n",
            " [ 0  0 -1  0  0  0  1  0  3]\n",
            " [ 0  0  0 -1  0  0  1  0  3]\n",
            " [ 0  0  0  1  0 -1  0  0  2]\n",
            " [ 0  0  0  0  1  0 -1  0  3]\n",
            " [ 0  0  0  0  0  0  1 -1  3]]\n"
          ]
        }
      ]
    },
    {
      "cell_type": "code",
      "metadata": {
        "id": "TLLB3Ebe587M",
        "colab": {
          "base_uri": "https://localhost:8080/"
        },
        "outputId": "edc87f57-762f-49ae-b69a-4e2d6bf97638"
      },
      "source": [
        "# Generate the transpose of M:\n",
        "MT = M.transpose()\n",
        "\n",
        "print(\"The Transpose of M is:\")\n",
        "print(MT)\n",
        "\n",
        "# and find MT*M and MT*pts:\n",
        "print(\"\\n\")\n",
        "print(\"MT * M is: \")\n",
        "MTM = MT * M\n",
        "print(MTM)\n",
        "\n",
        "print(\"\\n\")\n",
        "print(\"MT * pts is:\")\n",
        "MTpts = MT * pts\n",
        "print(MTpts)\n"
      ],
      "execution_count": 7,
      "outputs": [
        {
          "output_type": "stream",
          "name": "stdout",
          "text": [
            "The Transpose of M is:\n",
            "[[ 1 -1 -1  1 -1 -1 -1  0  0  0  0  0  0  0  0  0  0  0  0  0  0]\n",
            " [-1  0  0  0  0  0  0  0  0  0 -1 -1 -1 -1  0  0  0  0  0  0  0]\n",
            " [ 0  0  0  0  0  1  0  0  1  0  0  0  1  0  1  1 -1  0  0  0  0]\n",
            " [ 0  0  0  0  1  0  0  0  0  1  1  0  0  0  0  0  0 -1  1  0  0]\n",
            " [ 0  0  0  0  0  0  1  1 -1 -1  0  0  0  0  0  0  0  0  0  1  0]\n",
            " [ 0  1  0  0  0  0  0 -1  0  0  0  0  0  1  0 -1  0  0 -1  0  0]\n",
            " [ 0  0  1  0  0  0  0  0  0  0  0  1  0  0  0  0  1  1  0 -1  1]\n",
            " [ 0  0  0 -1  0  0  0  0  0  0  0  0  0  0 -1  0  0  0  0  0 -1]]\n",
            "\n",
            "\n",
            "MT * M is: \n",
            "[[ 7 -1 -1 -1 -1 -1 -1 -1]\n",
            " [-1  5 -1 -1  0 -1 -1  0]\n",
            " [-1 -1  6  0 -1 -1 -1 -1]\n",
            " [-1 -1  0  5 -1 -1 -1  0]\n",
            " [-1  0 -1 -1  5 -1 -1  0]\n",
            " [-1 -1 -1 -1 -1  5  0  0]\n",
            " [-1 -1 -1 -1 -1  0  6 -1]\n",
            " [-1  0 -1  0  0  0 -1  3]]\n",
            "\n",
            "\n",
            "MT * pts is:\n",
            "[[ -6]\n",
            " [-14]\n",
            " [  9]\n",
            " [  7]\n",
            " [  0]\n",
            " [  2]\n",
            " [ 11]\n",
            " [ -9]]\n"
          ]
        }
      ]
    },
    {
      "cell_type": "code",
      "metadata": {
        "id": "VXqKSDj06BVa",
        "colab": {
          "base_uri": "https://localhost:8080/"
        },
        "outputId": "95016ae9-5cdd-4c2b-f218-a7802456f35e"
      },
      "source": [
        "#  Check if MTM is singular\n",
        "is_singular(MT*M)"
      ],
      "execution_count": 8,
      "outputs": [
        {
          "output_type": "stream",
          "name": "stderr",
          "text": [
            "/tmp/ipython-input-4116023008.py:2: DeprecationWarning: The numpy.linalg.linalg has been made private and renamed to numpy.linalg._linalg. All public functions exported by it are available from numpy.linalg. Please use numpy.linalg.matrix_rank instead.\n",
            "  is_singular(MT*M)\n"
          ]
        },
        {
          "output_type": "execute_result",
          "data": {
            "text/plain": [
              "True"
            ]
          },
          "metadata": {},
          "execution_count": 8
        }
      ]
    },
    {
      "cell_type": "code",
      "metadata": {
        "id": "5E2eXRT76MQh",
        "colab": {
          "base_uri": "https://localhost:8080/"
        },
        "outputId": "94db1309-847e-4ba8-b797-25dd84630e90"
      },
      "source": [
        "# Careful - you might not need to do this!\n",
        "# Be sure to check whether MTM is singular on the previous line.\n",
        "\n",
        "# If MTM is singular, then adjust one row of MTM and MT pts to be just 1's:\n",
        "\n",
        "#MTM[3] is the entire 4th row of MTM,\n",
        "#so MTM[3] = 1 will put 1's in MTM's 4th row.\n",
        "\n",
        "MTM[3] = 1\n",
        "MTpts[3] = 1\n",
        "\n",
        "print(\"MTM is now: \")\n",
        "print(MTM)\n",
        "\n",
        "print(\"and MTpts is now:\")\n",
        "print(MTpts)\n",
        "\n",
        "print(\"Is our modified MTM singular?\")\n",
        "is_singular(MTM)"
      ],
      "execution_count": 9,
      "outputs": [
        {
          "output_type": "stream",
          "name": "stdout",
          "text": [
            "MTM is now: \n",
            "[[ 7 -1 -1 -1 -1 -1 -1 -1]\n",
            " [-1  5 -1 -1  0 -1 -1  0]\n",
            " [-1 -1  6  0 -1 -1 -1 -1]\n",
            " [ 1  1  1  1  1  1  1  1]\n",
            " [-1  0 -1 -1  5 -1 -1  0]\n",
            " [-1 -1 -1 -1 -1  5  0  0]\n",
            " [-1 -1 -1 -1 -1  0  6 -1]\n",
            " [-1  0 -1  0  0  0 -1  3]]\n",
            "and MTpts is now:\n",
            "[[ -6]\n",
            " [-14]\n",
            " [  9]\n",
            " [  1]\n",
            " [  0]\n",
            " [  2]\n",
            " [ 11]\n",
            " [ -9]]\n",
            "Is our modified MTM singular?\n"
          ]
        },
        {
          "output_type": "stream",
          "name": "stderr",
          "text": [
            "/tmp/ipython-input-2134225523.py:19: DeprecationWarning: The numpy.linalg.linalg has been made private and renamed to numpy.linalg._linalg. All public functions exported by it are available from numpy.linalg. Please use numpy.linalg.matrix_rank instead.\n",
            "  is_singular(MTM)\n"
          ]
        },
        {
          "output_type": "execute_result",
          "data": {
            "text/plain": [
              "False"
            ]
          },
          "metadata": {},
          "execution_count": 9
        }
      ]
    },
    {
      "cell_type": "code",
      "metadata": {
        "id": "UkDKmNba6YHi",
        "colab": {
          "base_uri": "https://localhost:8080/"
        },
        "outputId": "44ab29cf-37c1-4258-8b35-81c31cb693c3"
      },
      "source": [
        "#Find our solution using the inverse of MTM:\n",
        "\n",
        "#First, find the inverse of MTM:\n",
        "MTMI = np.linalg.inv(MTM)\n",
        "\n",
        "print(\"The inverse of MTM is:\")\n",
        "print(MTMI)\n",
        "\n",
        "#Now, use the inverse of MTM to solve for the rankings:\n",
        "\n",
        "print(\"\\n\")\n",
        "print(\"The solution are rankings:\")\n",
        "MTMI * MTpts"
      ],
      "execution_count": 10,
      "outputs": [
        {
          "output_type": "stream",
          "name": "stdout",
          "text": [
            "The inverse of MTM is:\n",
            "[[ 1.25000000e-01  3.96508223e-18  4.21289987e-18  1.25000000e-01\n",
            "  -5.94762335e-18 -4.18374485e-18 -2.23035875e-18  1.98254112e-18]\n",
            " [-7.23140496e-03  1.70247934e-01 -8.26446281e-03  1.25000000e-01\n",
            "  -2.97520661e-02 -5.00008531e-18 -8.26446281e-03 -4.95867769e-02]\n",
            " [ 2.56248740e-02  2.45918162e-02  1.72142713e-01  1.25000000e-01\n",
            "   2.45918162e-02  2.43902439e-02  2.58012497e-02  3.28562790e-02]\n",
            " [-1.79374118e-01 -1.72142713e-01 -2.04998992e-01  1.25000000e-01\n",
            "  -1.72142713e-01 -1.70731707e-01 -1.80608748e-01 -2.29993953e-01]\n",
            " [-7.23140496e-03 -2.97520661e-02 -8.26446281e-03  1.25000000e-01\n",
            "   1.70247934e-01  6.08657306e-18 -8.26446281e-03 -4.95867769e-02]\n",
            " [-8.64241080e-03 -1.41100585e-03 -9.87704092e-03  1.25000000e-01\n",
            "  -1.41100585e-03  1.70731707e-01 -3.42672848e-02 -5.92622455e-02]\n",
            " [ 1.23463011e-03  2.01572264e-04  1.41100585e-03  1.25000000e-01\n",
            "   2.01572264e-04 -2.43902439e-02  1.47752469e-01  8.46603507e-03]\n",
            " [ 5.06198347e-02  8.26446281e-03  5.78512397e-02  1.25000000e-01\n",
            "   8.26446281e-03 -3.61281253e-18  5.78512397e-02  3.47107438e-01]]\n",
            "\n",
            "\n",
            "The solution are rankings:\n"
          ]
        },
        {
          "output_type": "execute_result",
          "data": {
            "text/plain": [
              "matrix([[-0.625     ],\n",
              "        [-1.93409091],\n",
              "        [ 1.21313747],\n",
              "        [ 1.50803769],\n",
              "        [ 0.86590909],\n",
              "        [ 0.60559867],\n",
              "        [ 1.62777162],\n",
              "        [-2.26136364]])"
            ]
          },
          "metadata": {},
          "execution_count": 10
        }
      ]
    },
    {
      "cell_type": "markdown",
      "source": [
        "The solution are rankings:\n",
        "matrix([[-0.625     ], Winona\n",
        "        [-1.93409091], Aug\n",
        "        [ 1.21313747], Minn State\n",
        "        [ 1.50803769], Wayne\n",
        "        [ 0.86590909], Sioux\n",
        "        [ 0.60559867], Southwest\n",
        "        [ 1.62777162], Concordia\n",
        "        [-2.26136364]]) UMary"
      ],
      "metadata": {
        "id": "IYXmxv7RdMjl"
      }
    },
    {
      "cell_type": "markdown",
      "source": [
        "Winona will beat UMary by 1.6 Sets. This means Winona will win 3-1.\n"
      ],
      "metadata": {
        "id": "FVVA30w3ePWu"
      }
    }
  ]
}